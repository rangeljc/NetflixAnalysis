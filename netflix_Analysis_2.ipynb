{
 "cells": [
  {
   "cell_type": "code",
   "execution_count": 44,
   "id": "fa3c609d",
   "metadata": {},
   "outputs": [
    {
     "data": {
      "text/plain": [
       "Index(['Profile Name', 'Start Time', 'Duration', 'Attributes', 'Title',\n",
       "       'Supplemental Video Type', 'Device Type', 'Bookmark', 'Latest Bookmark',\n",
       "       'Country'],\n",
       "      dtype='object')"
      ]
     },
     "execution_count": 44,
     "metadata": {},
     "output_type": "execute_result"
    }
   ],
   "source": [
    "import pandas as pd\n",
    "\n",
    "df = pd.read_csv('netflix_ds.csv')\n",
    "df.columns"
   ]
  },
  {
   "cell_type": "code",
   "execution_count": 45,
   "id": "d80440ed",
   "metadata": {},
   "outputs": [
    {
     "data": {
      "text/html": [
       "<div>\n",
       "<style scoped>\n",
       "    .dataframe tbody tr th:only-of-type {\n",
       "        vertical-align: middle;\n",
       "    }\n",
       "\n",
       "    .dataframe tbody tr th {\n",
       "        vertical-align: top;\n",
       "    }\n",
       "\n",
       "    .dataframe thead th {\n",
       "        text-align: right;\n",
       "    }\n",
       "</style>\n",
       "<table border=\"1\" class=\"dataframe\">\n",
       "  <thead>\n",
       "    <tr style=\"text-align: right;\">\n",
       "      <th></th>\n",
       "      <th>Profile Name</th>\n",
       "      <th>Start Time</th>\n",
       "      <th>Title</th>\n",
       "      <th>Device Type</th>\n",
       "      <th>Country</th>\n",
       "    </tr>\n",
       "  </thead>\n",
       "  <tbody>\n",
       "    <tr>\n",
       "      <th>0</th>\n",
       "      <td>ASAFE JOABE</td>\n",
       "      <td>2022-09-20 01:18:15</td>\n",
       "      <td>Bakugan - Guerreiros da Batalha: Temporada 1: ...</td>\n",
       "      <td>Microsoft Xbox 360</td>\n",
       "      <td>BR (Brazil)</td>\n",
       "    </tr>\n",
       "    <tr>\n",
       "      <th>1</th>\n",
       "      <td>ASAFE JOABE</td>\n",
       "      <td>2022-09-20 00:45:46</td>\n",
       "      <td>Voltron - O Defensor Lendário: Temporada 2: Na...</td>\n",
       "      <td>Microsoft Xbox 360</td>\n",
       "      <td>BR (Brazil)</td>\n",
       "    </tr>\n",
       "  </tbody>\n",
       "</table>\n",
       "</div>"
      ],
      "text/plain": [
       "  Profile Name           Start Time  \\\n",
       "0  ASAFE JOABE  2022-09-20 01:18:15   \n",
       "1  ASAFE JOABE  2022-09-20 00:45:46   \n",
       "\n",
       "                                               Title         Device Type  \\\n",
       "0  Bakugan - Guerreiros da Batalha: Temporada 1: ...  Microsoft Xbox 360   \n",
       "1  Voltron - O Defensor Lendário: Temporada 2: Na...  Microsoft Xbox 360   \n",
       "\n",
       "       Country  \n",
       "0  BR (Brazil)  \n",
       "1  BR (Brazil)  "
      ]
     },
     "execution_count": 45,
     "metadata": {},
     "output_type": "execute_result"
    }
   ],
   "source": [
    "df.drop(['Duration', 'Attributes', 'Supplemental Video Type', 'Bookmark', 'Latest Bookmark'], \n",
    "        axis = 1, inplace = True)\n",
    "df.head(2)"
   ]
  },
  {
   "cell_type": "code",
   "execution_count": 46,
   "id": "3db09f58",
   "metadata": {},
   "outputs": [
    {
     "data": {
      "text/plain": [
       "array(['BR (Brazil)', 'ZZ (Unknown Region)', 'US (United States)',\n",
       "       'CA (Canada)', 'DE (Germany)', 'SG (Singapore)'], dtype=object)"
      ]
     },
     "execution_count": 46,
     "metadata": {},
     "output_type": "execute_result"
    }
   ],
   "source": [
    "df['Country'].unique()"
   ]
  },
  {
   "cell_type": "code",
   "execution_count": 49,
   "id": "d62b1bd1",
   "metadata": {},
   "outputs": [
    {
     "data": {
      "text/html": [
       "<div>\n",
       "<style scoped>\n",
       "    .dataframe tbody tr th:only-of-type {\n",
       "        vertical-align: middle;\n",
       "    }\n",
       "\n",
       "    .dataframe tbody tr th {\n",
       "        vertical-align: top;\n",
       "    }\n",
       "\n",
       "    .dataframe thead th {\n",
       "        text-align: right;\n",
       "    }\n",
       "</style>\n",
       "<table border=\"1\" class=\"dataframe\">\n",
       "  <thead>\n",
       "    <tr style=\"text-align: right;\">\n",
       "      <th></th>\n",
       "      <th>Profile Name</th>\n",
       "      <th>Start Time</th>\n",
       "      <th>Title</th>\n",
       "      <th>Device Type</th>\n",
       "      <th>Country</th>\n",
       "    </tr>\n",
       "  </thead>\n",
       "  <tbody>\n",
       "    <tr>\n",
       "      <th>58414</th>\n",
       "      <td>Renan</td>\n",
       "      <td>2014-01-25 14:39:02</td>\n",
       "      <td>Vida de inseto</td>\n",
       "      <td>PC</td>\n",
       "      <td>BR (Brazil)</td>\n",
       "    </tr>\n",
       "    <tr>\n",
       "      <th>58415</th>\n",
       "      <td>Renan</td>\n",
       "      <td>2014-01-25 02:36:34</td>\n",
       "      <td>Carros</td>\n",
       "      <td>PC</td>\n",
       "      <td>BR (Brazil)</td>\n",
       "    </tr>\n",
       "    <tr>\n",
       "      <th>58416</th>\n",
       "      <td>Renan</td>\n",
       "      <td>2014-01-25 01:05:26</td>\n",
       "      <td>Bolt - Supercão</td>\n",
       "      <td>PC</td>\n",
       "      <td>BR (Brazil)</td>\n",
       "    </tr>\n",
       "    <tr>\n",
       "      <th>58417</th>\n",
       "      <td>Renan</td>\n",
       "      <td>2014-01-22 00:42:48</td>\n",
       "      <td>Up - Altas aventuras</td>\n",
       "      <td>PC</td>\n",
       "      <td>BR (Brazil)</td>\n",
       "    </tr>\n",
       "    <tr>\n",
       "      <th>58418</th>\n",
       "      <td>Renan</td>\n",
       "      <td>2014-01-12 16:58:51</td>\n",
       "      <td>Patati Patatá: Season 1: Os grandes sucessos d...</td>\n",
       "      <td>Apple iPad 3</td>\n",
       "      <td>BR (Brazil)</td>\n",
       "    </tr>\n",
       "  </tbody>\n",
       "</table>\n",
       "</div>"
      ],
      "text/plain": [
       "      Profile Name           Start Time  \\\n",
       "58414        Renan  2014-01-25 14:39:02   \n",
       "58415        Renan  2014-01-25 02:36:34   \n",
       "58416        Renan  2014-01-25 01:05:26   \n",
       "58417        Renan  2014-01-22 00:42:48   \n",
       "58418        Renan  2014-01-12 16:58:51   \n",
       "\n",
       "                                                   Title   Device Type  \\\n",
       "58414                                     Vida de inseto            PC   \n",
       "58415                                             Carros            PC   \n",
       "58416                                    Bolt - Supercão            PC   \n",
       "58417                               Up - Altas aventuras            PC   \n",
       "58418  Patati Patatá: Season 1: Os grandes sucessos d...  Apple iPad 3   \n",
       "\n",
       "           Country  \n",
       "58414  BR (Brazil)  \n",
       "58415  BR (Brazil)  \n",
       "58416  BR (Brazil)  \n",
       "58417  BR (Brazil)  \n",
       "58418  BR (Brazil)  "
      ]
     },
     "execution_count": 49,
     "metadata": {},
     "output_type": "execute_result"
    }
   ],
   "source": [
    "sel = df['Country'] == 'BR (Brazil)'# 58363 registros\n",
    "#sel = df['Country'] == 'US (United States)'# 42 registros\n",
    "#sel = df['Country'] == 'CA (Canada)'# 6 registros\n",
    "#sel = df['Country'] == 'SG (Singapore)'# 2 registros\n",
    "#sel = df['Country'] == 'DE (Germany)'# 3 registros\n",
    "#sel = df['Country'] == 'ZZ (Unknown Region)'# 3 registros\n",
    "\n",
    "df[sel].tail()"
   ]
  }
 ],
 "metadata": {
  "kernelspec": {
   "display_name": "Python 3 (ipykernel)",
   "language": "python",
   "name": "python3"
  },
  "language_info": {
   "codemirror_mode": {
    "name": "ipython",
    "version": 3
   },
   "file_extension": ".py",
   "mimetype": "text/x-python",
   "name": "python",
   "nbconvert_exporter": "python",
   "pygments_lexer": "ipython3",
   "version": "3.9.12"
  }
 },
 "nbformat": 4,
 "nbformat_minor": 5
}
