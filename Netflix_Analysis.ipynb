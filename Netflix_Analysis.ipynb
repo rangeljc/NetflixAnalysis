{
 "cells": [
  {
   "cell_type": "markdown",
   "id": "7f078494",
   "metadata": {},
   "source": [
    "**BASIC NETFLIX ANALYSIS ALGORITHM**\n",
    "\n",
    "1st Step: Data Aquisition\n",
    "\n",
    "2nd Step: Preparing the Data\n",
    "\n",
    "3rd Step: Analysing the Data"
   ]
  },
  {
   "cell_type": "markdown",
   "id": "2152dc46",
   "metadata": {},
   "source": [
    "Primeiro projeto na Mentoria **\"Conquiste sua Vaga\"**\n",
    "\n",
    "**Objetivo:** Utilizar meu próprio histórico do Netflix, para realizar análises simples, com Python e Pandas, para exercitar alguns comandos.\n",
    "\n",
    "**Obs.1:** Vou utilizar o artifício do notebook para facilitar possíveis visualizações da análise."
   ]
  },
  {
   "cell_type": "code",
   "execution_count": null,
   "id": "bbd75ced",
   "metadata": {},
   "outputs": [],
   "source": [
    "import pandas as pd"
   ]
  },
  {
   "cell_type": "code",
   "execution_count": null,
   "id": "05f43934",
   "metadata": {},
   "outputs": [],
   "source": [
    "#1st Step - carregando os dados na memória\n",
    "#Pretendo deixar algumas anotações que me sirvam para futuras consultas, posteriormente.\n",
    "\n",
    "df_raw = pd.read_csv('netflix_ds.csv') #verificar outras opções da biblioteca pandas.\n",
    "\n",
    "\n",
    "df_raw.head(2)#exibe um cabeçalho com as primeiras informações do arquivo.\n",
    "\n",
    "#chamei de df_raw para te-lo como uma variavel de 'origem'"
   ]
  },
  {
   "cell_type": "code",
   "execution_count": null,
   "id": "b455828d",
   "metadata": {},
   "outputs": [],
   "source": [
    "df_raw.shape #shape - informa a dimensão do dataframe carregado(qtde_linhas, qtde_colunas)"
   ]
  },
  {
   "cell_type": "code",
   "execution_count": null,
   "id": "d1806f0c",
   "metadata": {},
   "outputs": [],
   "source": [
    "df_raw['Profile Name'].unique() #exibe os valores únicos na coluna informada como parametro."
   ]
  },
  {
   "cell_type": "code",
   "execution_count": null,
   "id": "c2027ade",
   "metadata": {},
   "outputs": [],
   "source": [
    "df_raw.nunique() #exibe quanto valores únicos existem em cada coluna."
   ]
  },
  {
   "cell_type": "code",
   "execution_count": null,
   "id": "8e6aba21",
   "metadata": {},
   "outputs": [],
   "source": [
    "df_raw.dtypes #informa o tipo dos dados em cada coluna do nosso dataframe"
   ]
  },
  {
   "cell_type": "markdown",
   "id": "65f44fd8",
   "metadata": {},
   "source": [
    "- Pretendo, inicialmente, verificar a quantidade de tempo que cada perfil já passou assistindo programações na plataforma."
   ]
  },
  {
   "cell_type": "code",
   "execution_count": null,
   "id": "9c2f7f21",
   "metadata": {},
   "outputs": [],
   "source": [
    "#2nd Step - vou realizar uma rápida limpeza e preparação das informações\n",
    "#para manter apenas o que vou querer usar no momento.\n",
    "\n",
    "#drop() - apaga linhas ou colunas da variavel;\n",
    "#o parametro 'axis=1' determina que apagará as colunas da lista passada\n",
    "df = df_raw.drop(['Attributes', 'Supplemental Video Type', 'Device Type', 'Bookmark', 'Latest Bookmark', 'Country'], \n",
    "                 axis = 1)"
   ]
  },
  {
   "cell_type": "code",
   "execution_count": null,
   "id": "ac6cd199",
   "metadata": {},
   "outputs": [],
   "source": [
    "df.head()"
   ]
  },
  {
   "cell_type": "code",
   "execution_count": null,
   "id": "f3abeda4",
   "metadata": {},
   "outputs": [],
   "source": [
    "#as colunas 'Start Time' e 'Duration', não estão no formato adequado para realizar as operações, por isso, precisei\n",
    "#fazer conversão dos formatos dos campos de tempo e data, para adequado tratamento das informações.\n",
    "\n",
    "df['Start Time'] = pd.to_datetime(df['Start Time'], utc=True)\n",
    "\n",
    "df['Duration'] = pd.to_timedelta(df['Duration'])\n",
    "\n",
    "df.dtypes"
   ]
  },
  {
   "cell_type": "markdown",
   "id": "67865c35",
   "metadata": {},
   "source": [
    "**Algumas configurações que podem ser interessantes de estudar mais adiante..**\n",
    "\n",
    "- Fazer alteração do índice do DataFrame\n",
    "- Configuração do horário: link par consultar a região (https://en.wikipedia.org/wiki/List_of_tz_database_time_zones)"
   ]
  },
  {
   "cell_type": "code",
   "execution_count": null,
   "id": "df5a1353",
   "metadata": {},
   "outputs": [],
   "source": [
    "#Para fazer o ajuste do horário precisei usar esse artifício de transformar a coluna em indice,\n",
    "#para poder aplicar a função tz_convert().\n",
    "\n",
    "df = df.set_index('Start Time')#comando para alterar o indice do DataFrame para a coluna passada como parametro\n",
    "\n",
    "df.index = df.index.tz_convert('America/Belem')#comando para aplicar a conversão para o nosso horário local\n",
    "\n",
    "df = df.reset_index()#comando para voltar ao indice padrão.\n",
    "\n",
    "\n",
    "df.head()"
   ]
  },
  {
   "cell_type": "code",
   "execution_count": null,
   "id": "7cac7ddb",
   "metadata": {},
   "outputs": [],
   "source": [
    "#utilizando este artificio para eliminar os registros de visualização de trailers\n",
    "df = df[(df['Duration'] > '0 days 00:06:00')]"
   ]
  },
  {
   "cell_type": "markdown",
   "id": "46bd1bc4",
   "metadata": {},
   "source": [
    "# Análise dos Dados\n",
    "\n",
    "### A partir de agora vem a análise, propriamente dita, dos dados."
   ]
  },
  {
   "cell_type": "markdown",
   "id": "913dea62",
   "metadata": {},
   "source": [
    "1. Exibindo o somatório de tempo de reprodução de vídeo, por perfil."
   ]
  },
  {
   "cell_type": "code",
   "execution_count": null,
   "id": "65307bca",
   "metadata": {},
   "outputs": [],
   "source": [
    "df.head(3)"
   ]
  },
  {
   "cell_type": "code",
   "execution_count": null,
   "id": "4dda1d02",
   "metadata": {},
   "outputs": [],
   "source": [
    "profile = df.groupby('Profile Name')"
   ]
  },
  {
   "cell_type": "code",
   "execution_count": null,
   "id": "68a524fb",
   "metadata": {},
   "outputs": [],
   "source": [
    "dados = {'Usuario':[], 'Tempo Total':[]}\n",
    "for p, data in profile:\n",
    "    dados['Usuario'].append(p)\n",
    "    dados['Tempo Total'].append(data.Duration.sum())\n",
    "dd = pd.DataFrame(dados)\n",
    "dd"
   ]
  },
  {
   "cell_type": "markdown",
   "id": "1355b348",
   "metadata": {},
   "source": [
    "2. Exibindo tempo médio dos programas assistidos, por perfil."
   ]
  },
  {
   "cell_type": "code",
   "execution_count": null,
   "id": "3f26fa2e",
   "metadata": {},
   "outputs": [],
   "source": [
    "dados = {'Usuario':[], 'Tempo Medio':[]}\n",
    "for p, data in profile:\n",
    "    dados['Usuario'].append(p)\n",
    "    dados['Tempo Medio'].append(data.Duration.mean())\n",
    "dd = pd.DataFrame(dados)\n",
    "dd"
   ]
  },
  {
   "cell_type": "markdown",
   "id": "c38dc09b",
   "metadata": {},
   "source": [
    "3. Exibindo o tempo da programação mais longa assistida, por perfil."
   ]
  },
  {
   "cell_type": "code",
   "execution_count": null,
   "id": "5381fac1",
   "metadata": {},
   "outputs": [],
   "source": [
    "dados = {'Usuario':[], 'Maior Duracao':[]}\n",
    "for p, data in profile:\n",
    "    dados['Usuario'].append(p)\n",
    "    dados['Maior Duracao'].append(data.Duration.max())\n",
    "dd = pd.DataFrame(dados)\n",
    "dd"
   ]
  },
  {
   "cell_type": "markdown",
   "id": "9f71390f",
   "metadata": {},
   "source": [
    "4. Exibindo o tempo da programação mais rápida assistida, por perfil."
   ]
  },
  {
   "cell_type": "code",
   "execution_count": null,
   "id": "b65c55ff",
   "metadata": {},
   "outputs": [],
   "source": [
    "dados = {'Usuario':[], 'Menor Duracao':[]}\n",
    "for p, data in profile:\n",
    "    dados['Usuario'].append(p)\n",
    "    dados['Menor Duracao'].append(data.Duration.min())\n",
    "dd = pd.DataFrame(dados)\n",
    "dd"
   ]
  },
  {
   "cell_type": "markdown",
   "id": "5f602a61",
   "metadata": {},
   "source": [
    "**Extra**\n",
    "\n",
    "Selecionando as informações que contenham apenas os registros relacionados a um determinado titulo"
   ]
  },
  {
   "cell_type": "code",
   "execution_count": null,
   "id": "20f4245b",
   "metadata": {},
   "outputs": [],
   "source": [
    "#regex = False - indica para a função que o argumento passado é um texto e não uma \"expressão regular\"(código).\n",
    "\n",
    "selecao = df['Title'].str.contains('One Piece', regex = False) \n",
    "titulo = df[selecao]\n",
    "titulo.head()"
   ]
  },
  {
   "cell_type": "code",
   "execution_count": null,
   "id": "8102cb52",
   "metadata": {},
   "outputs": [],
   "source": [
    "tmp = titulo['Duration'].sum() #tmp é o tempo gasto assistindo o título escolhido\n",
    "print('The account has been ', tmp, 'watching the tv program!')"
   ]
  }
 ],
 "metadata": {
  "kernelspec": {
   "display_name": "Python 3 (ipykernel)",
   "language": "python",
   "name": "python3"
  },
  "language_info": {
   "codemirror_mode": {
    "name": "ipython",
    "version": 3
   },
   "file_extension": ".py",
   "mimetype": "text/x-python",
   "name": "python",
   "nbconvert_exporter": "python",
   "pygments_lexer": "ipython3",
   "version": "3.9.12"
  }
 },
 "nbformat": 4,
 "nbformat_minor": 5
}
