{
 "cells": [
  {
   "cell_type": "markdown",
   "id": "7f078494",
   "metadata": {},
   "source": [
    "**NETFLIX ANALYSIS ALGORITHM**\n",
    "1st Step: Data Aquisition\n",
    "2nd Step: Preparing the Data"
   ]
  },
  {
   "cell_type": "code",
   "execution_count": 2,
   "id": "bbd75ced",
   "metadata": {},
   "outputs": [],
   "source": [
    "import pandas as pd"
   ]
  },
  {
   "cell_type": "code",
   "execution_count": 40,
   "id": "05f43934",
   "metadata": {},
   "outputs": [
    {
     "data": {
      "text/html": [
       "<div>\n",
       "<style scoped>\n",
       "    .dataframe tbody tr th:only-of-type {\n",
       "        vertical-align: middle;\n",
       "    }\n",
       "\n",
       "    .dataframe tbody tr th {\n",
       "        vertical-align: top;\n",
       "    }\n",
       "\n",
       "    .dataframe thead th {\n",
       "        text-align: right;\n",
       "    }\n",
       "</style>\n",
       "<table border=\"1\" class=\"dataframe\">\n",
       "  <thead>\n",
       "    <tr style=\"text-align: right;\">\n",
       "      <th></th>\n",
       "      <th>Profile Name</th>\n",
       "      <th>Start Time</th>\n",
       "      <th>Duration</th>\n",
       "      <th>Attributes</th>\n",
       "      <th>Title</th>\n",
       "      <th>Supplemental Video Type</th>\n",
       "      <th>Device Type</th>\n",
       "      <th>Bookmark</th>\n",
       "      <th>Latest Bookmark</th>\n",
       "      <th>Country</th>\n",
       "    </tr>\n",
       "  </thead>\n",
       "  <tbody>\n",
       "    <tr>\n",
       "      <th>0</th>\n",
       "      <td>ASAFE JOABE</td>\n",
       "      <td>2022-09-20 01:18:15</td>\n",
       "      <td>00:18:39</td>\n",
       "      <td>Autoplayed: user action: None;</td>\n",
       "      <td>Bakugan - Guerreiros da Batalha: Temporada 1: ...</td>\n",
       "      <td>NaN</td>\n",
       "      <td>Microsoft Xbox 360</td>\n",
       "      <td>00:18:40</td>\n",
       "      <td>00:18:40</td>\n",
       "      <td>BR (Brazil)</td>\n",
       "    </tr>\n",
       "    <tr>\n",
       "      <th>1</th>\n",
       "      <td>ASAFE JOABE</td>\n",
       "      <td>2022-09-20 00:45:46</td>\n",
       "      <td>00:21:51</td>\n",
       "      <td>Autoplayed: user action: User_Interaction;</td>\n",
       "      <td>Voltron - O Defensor Lendário: Temporada 2: Na...</td>\n",
       "      <td>NaN</td>\n",
       "      <td>Microsoft Xbox 360</td>\n",
       "      <td>00:22:55</td>\n",
       "      <td>00:22:55</td>\n",
       "      <td>BR (Brazil)</td>\n",
       "    </tr>\n",
       "  </tbody>\n",
       "</table>\n",
       "</div>"
      ],
      "text/plain": [
       "  Profile Name           Start Time  Duration  \\\n",
       "0  ASAFE JOABE  2022-09-20 01:18:15  00:18:39   \n",
       "1  ASAFE JOABE  2022-09-20 00:45:46  00:21:51   \n",
       "\n",
       "                                    Attributes  \\\n",
       "0              Autoplayed: user action: None;    \n",
       "1  Autoplayed: user action: User_Interaction;    \n",
       "\n",
       "                                               Title Supplemental Video Type  \\\n",
       "0  Bakugan - Guerreiros da Batalha: Temporada 1: ...                     NaN   \n",
       "1  Voltron - O Defensor Lendário: Temporada 2: Na...                     NaN   \n",
       "\n",
       "          Device Type  Bookmark Latest Bookmark      Country  \n",
       "0  Microsoft Xbox 360  00:18:40        00:18:40  BR (Brazil)  \n",
       "1  Microsoft Xbox 360  00:22:55        00:22:55  BR (Brazil)  "
      ]
     },
     "execution_count": 40,
     "metadata": {},
     "output_type": "execute_result"
    }
   ],
   "source": [
    "#1st Step - carregando os dados na memória\n",
    "df_raw = pd.read_csv('netflix_ds.csv')\n",
    "df_raw.head(2)"
   ]
  },
  {
   "cell_type": "code",
   "execution_count": 4,
   "id": "b455828d",
   "metadata": {},
   "outputs": [
    {
     "data": {
      "text/plain": [
       "(58419, 10)"
      ]
     },
     "execution_count": 4,
     "metadata": {},
     "output_type": "execute_result"
    }
   ],
   "source": [
    "df_raw.shape #shape - informa a dimensão do dataframe(qtde_linhas, qtde_colunas)"
   ]
  },
  {
   "cell_type": "code",
   "execution_count": 8,
   "id": "d1806f0c",
   "metadata": {},
   "outputs": [
    {
     "data": {
      "text/plain": [
       "array(['ASAFE JOABE', 'JULIO LEANDRA', 'Junior', 'Mae', 'Renan'],\n",
       "      dtype=object)"
      ]
     },
     "execution_count": 8,
     "metadata": {},
     "output_type": "execute_result"
    }
   ],
   "source": [
    "df_raw['Profile Name'].unique()"
   ]
  },
  {
   "cell_type": "code",
   "execution_count": 6,
   "id": "c2027ade",
   "metadata": {},
   "outputs": [
    {
     "data": {
      "text/plain": [
       "Profile Name                   5\n",
       "Start Time                 58334\n",
       "Duration                    5711\n",
       "Attributes                     7\n",
       "Title                      20501\n",
       "Supplemental Video Type        6\n",
       "Device Type                   55\n",
       "Bookmark                    6209\n",
       "Latest Bookmark             5154\n",
       "Country                        6\n",
       "dtype: int64"
      ]
     },
     "execution_count": 6,
     "metadata": {},
     "output_type": "execute_result"
    }
   ],
   "source": [
    "df_raw.nunique()"
   ]
  },
  {
   "cell_type": "code",
   "execution_count": 17,
   "id": "9c2f7f21",
   "metadata": {},
   "outputs": [
    {
     "data": {
      "text/html": [
       "<div>\n",
       "<style scoped>\n",
       "    .dataframe tbody tr th:only-of-type {\n",
       "        vertical-align: middle;\n",
       "    }\n",
       "\n",
       "    .dataframe tbody tr th {\n",
       "        vertical-align: top;\n",
       "    }\n",
       "\n",
       "    .dataframe thead th {\n",
       "        text-align: right;\n",
       "    }\n",
       "</style>\n",
       "<table border=\"1\" class=\"dataframe\">\n",
       "  <thead>\n",
       "    <tr style=\"text-align: right;\">\n",
       "      <th></th>\n",
       "      <th>Profile Name</th>\n",
       "      <th>Start Time</th>\n",
       "      <th>Duration</th>\n",
       "      <th>Title</th>\n",
       "    </tr>\n",
       "  </thead>\n",
       "  <tbody>\n",
       "    <tr>\n",
       "      <th>0</th>\n",
       "      <td>ASAFE JOABE</td>\n",
       "      <td>2022-09-20 01:18:15</td>\n",
       "      <td>00:18:39</td>\n",
       "      <td>Bakugan - Guerreiros da Batalha: Temporada 1: ...</td>\n",
       "    </tr>\n",
       "    <tr>\n",
       "      <th>1</th>\n",
       "      <td>ASAFE JOABE</td>\n",
       "      <td>2022-09-20 00:45:46</td>\n",
       "      <td>00:21:51</td>\n",
       "      <td>Voltron - O Defensor Lendário: Temporada 2: Na...</td>\n",
       "    </tr>\n",
       "    <tr>\n",
       "      <th>2</th>\n",
       "      <td>ASAFE JOABE</td>\n",
       "      <td>2022-09-20 00:23:36</td>\n",
       "      <td>00:22:05</td>\n",
       "      <td>Voltron - O Defensor Lendário: Temporada 2: At...</td>\n",
       "    </tr>\n",
       "    <tr>\n",
       "      <th>3</th>\n",
       "      <td>ASAFE JOABE</td>\n",
       "      <td>2022-09-20 00:01:24</td>\n",
       "      <td>00:20:52</td>\n",
       "      <td>Voltron - O Defensor Lendário: Temporada 1: O ...</td>\n",
       "    </tr>\n",
       "    <tr>\n",
       "      <th>4</th>\n",
       "      <td>ASAFE JOABE</td>\n",
       "      <td>2022-09-20 00:01:12</td>\n",
       "      <td>00:00:04</td>\n",
       "      <td>Voltron: Legendary Defender: Season 8 (Clip Su...</td>\n",
       "    </tr>\n",
       "  </tbody>\n",
       "</table>\n",
       "</div>"
      ],
      "text/plain": [
       "  Profile Name           Start Time  Duration  \\\n",
       "0  ASAFE JOABE  2022-09-20 01:18:15  00:18:39   \n",
       "1  ASAFE JOABE  2022-09-20 00:45:46  00:21:51   \n",
       "2  ASAFE JOABE  2022-09-20 00:23:36  00:22:05   \n",
       "3  ASAFE JOABE  2022-09-20 00:01:24  00:20:52   \n",
       "4  ASAFE JOABE  2022-09-20 00:01:12  00:00:04   \n",
       "\n",
       "                                               Title  \n",
       "0  Bakugan - Guerreiros da Batalha: Temporada 1: ...  \n",
       "1  Voltron - O Defensor Lendário: Temporada 2: Na...  \n",
       "2  Voltron - O Defensor Lendário: Temporada 2: At...  \n",
       "3  Voltron - O Defensor Lendário: Temporada 1: O ...  \n",
       "4  Voltron: Legendary Defender: Season 8 (Clip Su...  "
      ]
     },
     "execution_count": 17,
     "metadata": {},
     "output_type": "execute_result"
    }
   ],
   "source": [
    "#2nd Step - Limpeza e preparação dos dados\n",
    "#drop() - apaga linhas ou colunas do dataframe;\n",
    "#o parametro 'axis=1' determina que apagará as colunas da lista passada\n",
    "df = df_raw.drop(['Attributes', 'Supplemental Video Type', 'Device Type', 'Bookmark', 'Latest Bookmark', 'Country'], axis = 1)\n",
    "df.head()"
   ]
  },
  {
   "cell_type": "code",
   "execution_count": 18,
   "id": "ac6cd199",
   "metadata": {},
   "outputs": [
    {
     "data": {
      "text/plain": [
       "Profile Name    object\n",
       "Start Time      object\n",
       "Duration        object\n",
       "Title           object\n",
       "dtype: object"
      ]
     },
     "execution_count": 18,
     "metadata": {},
     "output_type": "execute_result"
    }
   ],
   "source": [
    "#informa o tipo dos dados em cada coluna do nosso dataframe\n",
    "df.dtypes"
   ]
  },
  {
   "cell_type": "code",
   "execution_count": 19,
   "id": "f3abeda4",
   "metadata": {},
   "outputs": [
    {
     "data": {
      "text/plain": [
       "Profile Name                 object\n",
       "Start Time      datetime64[ns, UTC]\n",
       "Duration            timedelta64[ns]\n",
       "Title                        object\n",
       "dtype: object"
      ]
     },
     "execution_count": 19,
     "metadata": {},
     "output_type": "execute_result"
    }
   ],
   "source": [
    "#conversão dos formatos dos campos de tempo e data, para adequado tratamento das informações.\n",
    "df['Start Time'] = pd.to_datetime(df['Start Time'], utc=True)\n",
    "df['Duration'] = pd.to_timedelta(df['Duration'])\n",
    "df.dtypes"
   ]
  },
  {
   "cell_type": "markdown",
   "id": "67865c35",
   "metadata": {},
   "source": [
    "**Algumas configurações que podem ser interessantes**\n",
    "\n",
    "- Alteração do índice do DataFrame\n",
    "- Configuração do horário, pela região (https://en.wikipedia.org/wiki/List_of_tz_database_time_zones)\n",
    "\n",
    "- set_index(): faz a coluna 'Start Time' se tornar o indice do dataframe\n",
    "    df = df.set_index('Start Time')\n",
    "\n",
    "- index.tz_convert - converte a data para o padrão UTC conforme o parâmetro de região informado como atributo.\n",
    "    df.index = df.index.tz_convert('America/Belem')\n",
    "\n",
    "- reset_index volta o indice do dataframe para o padrão inicial\n",
    "    df = df.reset_index()"
   ]
  },
  {
   "cell_type": "code",
   "execution_count": 20,
   "id": "df5a1353",
   "metadata": {},
   "outputs": [],
   "source": [
    "df = df.set_index('Start Time')\n",
    "df.index = df.index.tz_convert('America/Belem')\n",
    "df = df.reset_index()"
   ]
  },
  {
   "cell_type": "code",
   "execution_count": 21,
   "id": "6846ea92",
   "metadata": {},
   "outputs": [
    {
     "data": {
      "text/html": [
       "<div>\n",
       "<style scoped>\n",
       "    .dataframe tbody tr th:only-of-type {\n",
       "        vertical-align: middle;\n",
       "    }\n",
       "\n",
       "    .dataframe tbody tr th {\n",
       "        vertical-align: top;\n",
       "    }\n",
       "\n",
       "    .dataframe thead th {\n",
       "        text-align: right;\n",
       "    }\n",
       "</style>\n",
       "<table border=\"1\" class=\"dataframe\">\n",
       "  <thead>\n",
       "    <tr style=\"text-align: right;\">\n",
       "      <th></th>\n",
       "      <th>Start Time</th>\n",
       "      <th>Profile Name</th>\n",
       "      <th>Duration</th>\n",
       "      <th>Title</th>\n",
       "    </tr>\n",
       "  </thead>\n",
       "  <tbody>\n",
       "    <tr>\n",
       "      <th>0</th>\n",
       "      <td>2022-09-19 22:18:15-03:00</td>\n",
       "      <td>ASAFE JOABE</td>\n",
       "      <td>0 days 00:18:39</td>\n",
       "      <td>Bakugan - Guerreiros da Batalha: Temporada 1: ...</td>\n",
       "    </tr>\n",
       "    <tr>\n",
       "      <th>1</th>\n",
       "      <td>2022-09-19 21:45:46-03:00</td>\n",
       "      <td>ASAFE JOABE</td>\n",
       "      <td>0 days 00:21:51</td>\n",
       "      <td>Voltron - O Defensor Lendário: Temporada 2: Na...</td>\n",
       "    </tr>\n",
       "    <tr>\n",
       "      <th>2</th>\n",
       "      <td>2022-09-19 21:23:36-03:00</td>\n",
       "      <td>ASAFE JOABE</td>\n",
       "      <td>0 days 00:22:05</td>\n",
       "      <td>Voltron - O Defensor Lendário: Temporada 2: At...</td>\n",
       "    </tr>\n",
       "    <tr>\n",
       "      <th>3</th>\n",
       "      <td>2022-09-19 21:01:24-03:00</td>\n",
       "      <td>ASAFE JOABE</td>\n",
       "      <td>0 days 00:20:52</td>\n",
       "      <td>Voltron - O Defensor Lendário: Temporada 1: O ...</td>\n",
       "    </tr>\n",
       "    <tr>\n",
       "      <th>4</th>\n",
       "      <td>2022-09-19 21:01:12-03:00</td>\n",
       "      <td>ASAFE JOABE</td>\n",
       "      <td>0 days 00:00:04</td>\n",
       "      <td>Voltron: Legendary Defender: Season 8 (Clip Su...</td>\n",
       "    </tr>\n",
       "  </tbody>\n",
       "</table>\n",
       "</div>"
      ],
      "text/plain": [
       "                 Start Time Profile Name        Duration  \\\n",
       "0 2022-09-19 22:18:15-03:00  ASAFE JOABE 0 days 00:18:39   \n",
       "1 2022-09-19 21:45:46-03:00  ASAFE JOABE 0 days 00:21:51   \n",
       "2 2022-09-19 21:23:36-03:00  ASAFE JOABE 0 days 00:22:05   \n",
       "3 2022-09-19 21:01:24-03:00  ASAFE JOABE 0 days 00:20:52   \n",
       "4 2022-09-19 21:01:12-03:00  ASAFE JOABE 0 days 00:00:04   \n",
       "\n",
       "                                               Title  \n",
       "0  Bakugan - Guerreiros da Batalha: Temporada 1: ...  \n",
       "1  Voltron - O Defensor Lendário: Temporada 2: Na...  \n",
       "2  Voltron - O Defensor Lendário: Temporada 2: At...  \n",
       "3  Voltron - O Defensor Lendário: Temporada 1: O ...  \n",
       "4  Voltron: Legendary Defender: Season 8 (Clip Su...  "
      ]
     },
     "execution_count": 21,
     "metadata": {},
     "output_type": "execute_result"
    }
   ],
   "source": [
    "df.head()"
   ]
  },
  {
   "cell_type": "code",
   "execution_count": 53,
   "id": "7cac7ddb",
   "metadata": {},
   "outputs": [],
   "source": [
    "df = df[(df['Duration'] > '0 days 00:05:00')]"
   ]
  },
  {
   "cell_type": "markdown",
   "id": "46bd1bc4",
   "metadata": {},
   "source": [
    "# Análise dos Dados\n",
    "####A partir de agora vem a análise, propriamente dita, dos dados."
   ]
  },
  {
   "cell_type": "code",
   "execution_count": 54,
   "id": "68a524fb",
   "metadata": {},
   "outputs": [
    {
     "name": "stdout",
     "output_type": "stream",
     "text": [
      "ASAFE JOABE -> 144 days 20:15:42\n",
      "JULIO LEANDRA -> 200 days 17:05:58\n",
      "Junior -> 155 days 13:36:06\n",
      "Mae -> 141 days 05:37:35\n",
      "Renan -> 226 days 09:08:10\n"
     ]
    }
   ],
   "source": [
    "#Exibindo o somatório de tempo de reprodução de vídeo, por perfil.\n",
    "profile = df.groupby('Profile Name')\n",
    "for p, data in profile:\n",
    "    print('{} -> {}'.format(p, data.Duration.sum()))"
   ]
  },
  {
   "cell_type": "code",
   "execution_count": 55,
   "id": "39de56cf",
   "metadata": {},
   "outputs": [
    {
     "name": "stdout",
     "output_type": "stream",
     "text": [
      "ASAFE JOABE -> 0 days 00:20:23.078772478\n",
      "JULIO LEANDRA -> 0 days 00:34:18.833907158\n",
      "Junior -> 0 days 00:30:20.529053230\n",
      "Mae -> 0 days 00:32:59.343876723\n",
      "Renan -> 0 days 00:33:09.552436171\n"
     ]
    }
   ],
   "source": [
    "#Exibindo tempo médio dos programas assistidos, por perfil.\n",
    "profile = df.groupby('Profile Name')\n",
    "for p, data in profile:\n",
    "    print('{} -> {}'.format(p, data.Duration.mean()))"
   ]
  },
  {
   "cell_type": "code",
   "execution_count": 56,
   "id": "5381fac1",
   "metadata": {},
   "outputs": [
    {
     "name": "stdout",
     "output_type": "stream",
     "text": [
      "ASAFE JOABE -> 0 days 02:23:51\n",
      "JULIO LEANDRA -> 0 days 03:31:44\n",
      "Junior -> 0 days 03:08:25\n",
      "Mae -> 0 days 03:45:06\n",
      "Renan -> 0 days 03:22:26\n"
     ]
    }
   ],
   "source": [
    "#Exibindo o tempo da programação mais longa assistida, por perfil.\n",
    "profile = df.groupby('Profile Name')\n",
    "for p, data in profile:\n",
    "    print('{} -> {}'.format(p, data.Duration.max()))"
   ]
  },
  {
   "cell_type": "code",
   "execution_count": 57,
   "id": "b65c55ff",
   "metadata": {},
   "outputs": [
    {
     "name": "stdout",
     "output_type": "stream",
     "text": [
      "ASAFE JOABE -> 0 days 00:05:01\n",
      "JULIO LEANDRA -> 0 days 00:05:01\n",
      "Junior -> 0 days 00:05:01\n",
      "Mae -> 0 days 00:05:01\n",
      "Renan -> 0 days 00:05:01\n"
     ]
    }
   ],
   "source": [
    "#Exibindo o tempo da programação mais rápida assistida, por perfil.\n",
    "profile = df.groupby('Profile Name')\n",
    "for p, data in profile:\n",
    "    print('{} -> {}'.format(p, data.Duration.min()))"
   ]
  },
  {
   "cell_type": "code",
   "execution_count": 22,
   "id": "20f4245b",
   "metadata": {},
   "outputs": [
    {
     "data": {
      "text/html": [
       "<div>\n",
       "<style scoped>\n",
       "    .dataframe tbody tr th:only-of-type {\n",
       "        vertical-align: middle;\n",
       "    }\n",
       "\n",
       "    .dataframe tbody tr th {\n",
       "        vertical-align: top;\n",
       "    }\n",
       "\n",
       "    .dataframe thead th {\n",
       "        text-align: right;\n",
       "    }\n",
       "</style>\n",
       "<table border=\"1\" class=\"dataframe\">\n",
       "  <thead>\n",
       "    <tr style=\"text-align: right;\">\n",
       "      <th></th>\n",
       "      <th>Start Time</th>\n",
       "      <th>Profile Name</th>\n",
       "      <th>Duration</th>\n",
       "      <th>Title</th>\n",
       "    </tr>\n",
       "  </thead>\n",
       "  <tbody>\n",
       "    <tr>\n",
       "      <th>1901</th>\n",
       "      <td>2021-10-05 17:23:27-03:00</td>\n",
       "      <td>ASAFE JOABE</td>\n",
       "      <td>0 days 00:00:05</td>\n",
       "      <td>Naruto: Season 1_hook_primary_16x9</td>\n",
       "    </tr>\n",
       "    <tr>\n",
       "      <th>3307</th>\n",
       "      <td>2021-07-17 16:21:36-03:00</td>\n",
       "      <td>ASAFE JOABE</td>\n",
       "      <td>0 days 00:00:05</td>\n",
       "      <td>Naruto: Season 1_hook_primary_16x9</td>\n",
       "    </tr>\n",
       "    <tr>\n",
       "      <th>3561</th>\n",
       "      <td>2021-06-29 21:42:00-03:00</td>\n",
       "      <td>ASAFE JOABE</td>\n",
       "      <td>0 days 00:09:55</td>\n",
       "      <td>Naruto: Temporada 5: A batalha começa: Naruto ...</td>\n",
       "    </tr>\n",
       "    <tr>\n",
       "      <th>3562</th>\n",
       "      <td>2021-06-29 21:22:01-03:00</td>\n",
       "      <td>ASAFE JOABE</td>\n",
       "      <td>0 days 00:19:56</td>\n",
       "      <td>Naruto: Temporada 4: O último arranco: o ato f...</td>\n",
       "    </tr>\n",
       "    <tr>\n",
       "      <th>3563</th>\n",
       "      <td>2021-06-29 21:02:01-03:00</td>\n",
       "      <td>ASAFE JOABE</td>\n",
       "      <td>0 days 00:19:58</td>\n",
       "      <td>Naruto: Temporada 4: Uma Batalha Feroz do Trov...</td>\n",
       "    </tr>\n",
       "  </tbody>\n",
       "</table>\n",
       "</div>"
      ],
      "text/plain": [
       "                    Start Time Profile Name        Duration  \\\n",
       "1901 2021-10-05 17:23:27-03:00  ASAFE JOABE 0 days 00:00:05   \n",
       "3307 2021-07-17 16:21:36-03:00  ASAFE JOABE 0 days 00:00:05   \n",
       "3561 2021-06-29 21:42:00-03:00  ASAFE JOABE 0 days 00:09:55   \n",
       "3562 2021-06-29 21:22:01-03:00  ASAFE JOABE 0 days 00:19:56   \n",
       "3563 2021-06-29 21:02:01-03:00  ASAFE JOABE 0 days 00:19:58   \n",
       "\n",
       "                                                  Title  \n",
       "1901                 Naruto: Season 1_hook_primary_16x9  \n",
       "3307                 Naruto: Season 1_hook_primary_16x9  \n",
       "3561  Naruto: Temporada 5: A batalha começa: Naruto ...  \n",
       "3562  Naruto: Temporada 4: O último arranco: o ato f...  \n",
       "3563  Naruto: Temporada 4: Uma Batalha Feroz do Trov...  "
      ]
     },
     "execution_count": 22,
     "metadata": {},
     "output_type": "execute_result"
    }
   ],
   "source": [
    "# criando um novo dataframe contendo apenas os registros relacionados ao titulo Naruto\n",
    "# regex = False - indica para a função que o argumento passado é um texto e não uma \"expressão regular\"(código).\n",
    "nrt = df[df['Title'].str.contains('Naruto', regex = False)]\n",
    "nrt.head()"
   ]
  },
  {
   "cell_type": "code",
   "execution_count": 24,
   "id": "9fe5a71b",
   "metadata": {},
   "outputs": [
    {
     "data": {
      "text/plain": [
       "(1322, 4)"
      ]
     },
     "execution_count": 24,
     "metadata": {},
     "output_type": "execute_result"
    }
   ],
   "source": [
    "# removendo os registros de visulização com menos de 1 minuto de duração.\n",
    "nrt = nrt[(nrt['Duration'] > '0 days 00:01:00')]"
   ]
  },
  {
   "cell_type": "code",
   "execution_count": 46,
   "id": "8102cb52",
   "metadata": {},
   "outputs": [
    {
     "name": "stdout",
     "output_type": "stream",
     "text": [
      "O usuário passou  14 days 21:09:38 assistindo a programação!\n"
     ]
    }
   ],
   "source": [
    "tmp = nrt['Duration'].sum() #tmp é o tempo gasto assistindo Star Trek\n",
    "print('O usuário passou ', tmp, 'assistindo a programação!')"
   ]
  },
  {
   "cell_type": "code",
   "execution_count": null,
   "id": "f7ed5875",
   "metadata": {},
   "outputs": [],
   "source": []
  }
 ],
 "metadata": {
  "kernelspec": {
   "display_name": "Python 3 (ipykernel)",
   "language": "python",
   "name": "python3"
  },
  "language_info": {
   "codemirror_mode": {
    "name": "ipython",
    "version": 3
   },
   "file_extension": ".py",
   "mimetype": "text/x-python",
   "name": "python",
   "nbconvert_exporter": "python",
   "pygments_lexer": "ipython3",
   "version": "3.9.12"
  }
 },
 "nbformat": 4,
 "nbformat_minor": 5
}
